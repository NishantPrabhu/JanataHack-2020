{
 "cells": [
  {
   "cell_type": "code",
   "execution_count": 37,
   "metadata": {},
   "outputs": [],
   "source": [
    "import numpy as np\n",
    "import pandas as pd\n",
    "import xgboost as xgb\n",
    "import lightgbm as lgb\n",
    "from catboost import CatBoostClassifier\n",
    "\n",
    "from sklearn.model_selection import train_test_split\n",
    "from sklearn.metrics import classification_report, roc_auc_score"
   ]
  },
  {
   "cell_type": "code",
   "execution_count": 3,
   "metadata": {},
   "outputs": [],
   "source": [
    "# Import data\n",
    "train = pd.read_csv('.././data/train.csv')\n",
    "test = pd.read_csv('.././data/test.csv')"
   ]
  },
  {
   "cell_type": "code",
   "execution_count": 5,
   "metadata": {},
   "outputs": [],
   "source": [
    "# Target encoder\n",
    "def target_encoder(df_train, df_test, cols):\n",
    "    df = pd.concat([df_train, df_test], axis=0, sort=True)\n",
    "    for col in cols:\n",
    "        label_map = {}\n",
    "        for val in df[col].unique():\n",
    "            label_map.update({val: len(df[df[col]==val])/len(df)})\n",
    "        df_train[col] = df_train[col].map(label_map)\n",
    "        df_test[col] = df_test[col].map(label_map)\n",
    "    return df_train, df_test\n",
    " \n",
    "train, test = target_encoder(train, test, ['SEX', 'EDUCATION', 'MARRIAGE'])"
   ]
  },
  {
   "cell_type": "code",
   "execution_count": 6,
   "metadata": {},
   "outputs": [
    {
     "data": {
      "text/html": [
       "<div>\n",
       "<style scoped>\n",
       "    .dataframe tbody tr th:only-of-type {\n",
       "        vertical-align: middle;\n",
       "    }\n",
       "\n",
       "    .dataframe tbody tr th {\n",
       "        vertical-align: top;\n",
       "    }\n",
       "\n",
       "    .dataframe thead th {\n",
       "        text-align: right;\n",
       "    }\n",
       "</style>\n",
       "<table border=\"1\" class=\"dataframe\">\n",
       "  <thead>\n",
       "    <tr style=\"text-align: right;\">\n",
       "      <th></th>\n",
       "      <th>ID</th>\n",
       "      <th>LIMIT_BAL</th>\n",
       "      <th>SEX</th>\n",
       "      <th>EDUCATION</th>\n",
       "      <th>MARRIAGE</th>\n",
       "      <th>AGE</th>\n",
       "      <th>PAY_0</th>\n",
       "      <th>PAY_2</th>\n",
       "      <th>PAY_3</th>\n",
       "      <th>PAY_4</th>\n",
       "      <th>...</th>\n",
       "      <th>BILL_AMT4</th>\n",
       "      <th>BILL_AMT5</th>\n",
       "      <th>BILL_AMT6</th>\n",
       "      <th>PAY_AMT1</th>\n",
       "      <th>PAY_AMT2</th>\n",
       "      <th>PAY_AMT3</th>\n",
       "      <th>PAY_AMT4</th>\n",
       "      <th>PAY_AMT5</th>\n",
       "      <th>PAY_AMT6</th>\n",
       "      <th>default_payment_next_month</th>\n",
       "    </tr>\n",
       "  </thead>\n",
       "  <tbody>\n",
       "    <tr>\n",
       "      <th>0</th>\n",
       "      <td>25150</td>\n",
       "      <td>360000</td>\n",
       "      <td>0.603733</td>\n",
       "      <td>0.467667</td>\n",
       "      <td>0.532133</td>\n",
       "      <td>25</td>\n",
       "      <td>-1</td>\n",
       "      <td>-1</td>\n",
       "      <td>-1</td>\n",
       "      <td>-1</td>\n",
       "      <td>...</td>\n",
       "      <td>3435</td>\n",
       "      <td>8870</td>\n",
       "      <td>2020</td>\n",
       "      <td>12590</td>\n",
       "      <td>3479</td>\n",
       "      <td>3446</td>\n",
       "      <td>8870</td>\n",
       "      <td>2020</td>\n",
       "      <td>27043</td>\n",
       "      <td>0</td>\n",
       "    </tr>\n",
       "    <tr>\n",
       "      <th>1</th>\n",
       "      <td>13470</td>\n",
       "      <td>240000</td>\n",
       "      <td>0.603733</td>\n",
       "      <td>0.352833</td>\n",
       "      <td>0.532133</td>\n",
       "      <td>46</td>\n",
       "      <td>2</td>\n",
       "      <td>2</td>\n",
       "      <td>-2</td>\n",
       "      <td>-1</td>\n",
       "      <td>...</td>\n",
       "      <td>2240</td>\n",
       "      <td>1681</td>\n",
       "      <td>2267</td>\n",
       "      <td>0</td>\n",
       "      <td>0</td>\n",
       "      <td>2240</td>\n",
       "      <td>0</td>\n",
       "      <td>2267</td>\n",
       "      <td>3074</td>\n",
       "      <td>0</td>\n",
       "    </tr>\n",
       "    <tr>\n",
       "      <th>2</th>\n",
       "      <td>3092</td>\n",
       "      <td>320000</td>\n",
       "      <td>0.603733</td>\n",
       "      <td>0.467667</td>\n",
       "      <td>0.455300</td>\n",
       "      <td>41</td>\n",
       "      <td>0</td>\n",
       "      <td>0</td>\n",
       "      <td>0</td>\n",
       "      <td>0</td>\n",
       "      <td>...</td>\n",
       "      <td>35409</td>\n",
       "      <td>35036</td>\n",
       "      <td>35939</td>\n",
       "      <td>5000</td>\n",
       "      <td>2000</td>\n",
       "      <td>2000</td>\n",
       "      <td>3000</td>\n",
       "      <td>3000</td>\n",
       "      <td>1500</td>\n",
       "      <td>0</td>\n",
       "    </tr>\n",
       "    <tr>\n",
       "      <th>3</th>\n",
       "      <td>13973</td>\n",
       "      <td>50000</td>\n",
       "      <td>0.603733</td>\n",
       "      <td>0.467667</td>\n",
       "      <td>0.532133</td>\n",
       "      <td>24</td>\n",
       "      <td>-1</td>\n",
       "      <td>-1</td>\n",
       "      <td>-2</td>\n",
       "      <td>-2</td>\n",
       "      <td>...</td>\n",
       "      <td>0</td>\n",
       "      <td>0</td>\n",
       "      <td>0</td>\n",
       "      <td>0</td>\n",
       "      <td>0</td>\n",
       "      <td>0</td>\n",
       "      <td>0</td>\n",
       "      <td>0</td>\n",
       "      <td>0</td>\n",
       "      <td>1</td>\n",
       "    </tr>\n",
       "    <tr>\n",
       "      <th>4</th>\n",
       "      <td>10567</td>\n",
       "      <td>80000</td>\n",
       "      <td>0.396267</td>\n",
       "      <td>0.163900</td>\n",
       "      <td>0.455300</td>\n",
       "      <td>52</td>\n",
       "      <td>-1</td>\n",
       "      <td>0</td>\n",
       "      <td>0</td>\n",
       "      <td>0</td>\n",
       "      <td>...</td>\n",
       "      <td>20561</td>\n",
       "      <td>21261</td>\n",
       "      <td>21457</td>\n",
       "      <td>1500</td>\n",
       "      <td>1500</td>\n",
       "      <td>1500</td>\n",
       "      <td>1028</td>\n",
       "      <td>876</td>\n",
       "      <td>1449</td>\n",
       "      <td>0</td>\n",
       "    </tr>\n",
       "  </tbody>\n",
       "</table>\n",
       "<p>5 rows × 25 columns</p>\n",
       "</div>"
      ],
      "text/plain": [
       "      ID  LIMIT_BAL       SEX  EDUCATION  MARRIAGE  AGE  PAY_0  PAY_2  PAY_3  \\\n",
       "0  25150     360000  0.603733   0.467667  0.532133   25     -1     -1     -1   \n",
       "1  13470     240000  0.603733   0.352833  0.532133   46      2      2     -2   \n",
       "2   3092     320000  0.603733   0.467667  0.455300   41      0      0      0   \n",
       "3  13973      50000  0.603733   0.467667  0.532133   24     -1     -1     -2   \n",
       "4  10567      80000  0.396267   0.163900  0.455300   52     -1      0      0   \n",
       "\n",
       "   PAY_4  ...  BILL_AMT4  BILL_AMT5  BILL_AMT6  PAY_AMT1  PAY_AMT2  PAY_AMT3  \\\n",
       "0     -1  ...       3435       8870       2020     12590      3479      3446   \n",
       "1     -1  ...       2240       1681       2267         0         0      2240   \n",
       "2      0  ...      35409      35036      35939      5000      2000      2000   \n",
       "3     -2  ...          0          0          0         0         0         0   \n",
       "4      0  ...      20561      21261      21457      1500      1500      1500   \n",
       "\n",
       "   PAY_AMT4  PAY_AMT5  PAY_AMT6  default_payment_next_month  \n",
       "0      8870      2020     27043                           0  \n",
       "1         0      2267      3074                           0  \n",
       "2      3000      3000      1500                           0  \n",
       "3         0         0         0                           1  \n",
       "4      1028       876      1449                           0  \n",
       "\n",
       "[5 rows x 25 columns]"
      ]
     },
     "execution_count": 6,
     "metadata": {},
     "output_type": "execute_result"
    }
   ],
   "source": [
    "train.head()"
   ]
  },
  {
   "cell_type": "code",
   "execution_count": 8,
   "metadata": {},
   "outputs": [
    {
     "name": "stdout",
     "output_type": "stream",
     "text": [
      "Training data: (14700, 23)\n",
      "Validation data: (3150, 23)\n",
      "Hold-out data: (3150, 23)\n"
     ]
    }
   ],
   "source": [
    "# Split data into train, validation and hold-out\n",
    "drop_cols = ['ID']\n",
    "X, y = train.drop(drop_cols + ['default_payment_next_month'], axis=1), train['default_payment_next_month']\n",
    "X_train, X_split, y_train, y_split = train_test_split(X, y, test_size=0.3, shuffle=True, stratify=y)\n",
    "X_val, X_hold, y_val, y_hold = train_test_split(X_split, y_split, test_size=0.5, shuffle=True, stratify=y_split)\n",
    "\n",
    "print(\"Training data: {}\".format(X_train.shape))\n",
    "print(\"Validation data: {}\".format(X_val.shape))\n",
    "print(\"Hold-out data: {}\".format(X_hold.shape))"
   ]
  },
  {
   "cell_type": "markdown",
   "metadata": {},
   "source": [
    "# **XGBoost**"
   ]
  },
  {
   "cell_type": "code",
   "execution_count": 34,
   "metadata": {},
   "outputs": [
    {
     "name": "stdout",
     "output_type": "stream",
     "text": [
      "[0]\tTrain-auc:0.791202\tTrain-logloss:0.692619\tVal-auc:0.744748\tVal-logloss:0.692684\n",
      "[100]\tTrain-auc:0.808576\tTrain-logloss:0.647567\tVal-auc:0.764253\tVal-logloss:0.653539\n",
      "[200]\tTrain-auc:0.81501\tTrain-logloss:0.614524\tVal-auc:0.769073\tVal-logloss:0.625573\n",
      "[300]\tTrain-auc:0.817222\tTrain-logloss:0.589814\tVal-auc:0.770164\tVal-logloss:0.605558\n",
      "[400]\tTrain-auc:0.820208\tTrain-logloss:0.57059\tVal-auc:0.771784\tVal-logloss:0.590718\n",
      "[500]\tTrain-auc:0.823203\tTrain-logloss:0.555706\tVal-auc:0.773613\tVal-logloss:0.579816\n",
      "[600]\tTrain-auc:0.824688\tTrain-logloss:0.544419\tVal-auc:0.776109\tVal-logloss:0.571759\n",
      "[700]\tTrain-auc:0.825931\tTrain-logloss:0.535509\tVal-auc:0.777398\tVal-logloss:0.565479\n",
      "[800]\tTrain-auc:0.827581\tTrain-logloss:0.527923\tVal-auc:0.778043\tVal-logloss:0.56091\n",
      "[900]\tTrain-auc:0.82965\tTrain-logloss:0.521404\tVal-auc:0.778268\tVal-logloss:0.557541\n",
      "[1000]\tTrain-auc:0.832099\tTrain-logloss:0.515565\tVal-auc:0.778659\tVal-logloss:0.554766\n",
      "[1100]\tTrain-auc:0.834058\tTrain-logloss:0.510726\tVal-auc:0.778491\tVal-logloss:0.552878\n",
      "[1200]\tTrain-auc:0.835901\tTrain-logloss:0.506553\tVal-auc:0.778445\tVal-logloss:0.551363\n",
      "[1300]\tTrain-auc:0.837911\tTrain-logloss:0.502861\tVal-auc:0.778955\tVal-logloss:0.549987\n",
      "[1400]\tTrain-auc:0.840264\tTrain-logloss:0.499578\tVal-auc:0.779142\tVal-logloss:0.548879\n",
      "[1500]\tTrain-auc:0.842813\tTrain-logloss:0.496414\tVal-auc:0.779702\tVal-logloss:0.547642\n",
      "[1600]\tTrain-auc:0.845043\tTrain-logloss:0.493494\tVal-auc:0.780297\tVal-logloss:0.546559\n",
      "[1700]\tTrain-auc:0.847216\tTrain-logloss:0.490689\tVal-auc:0.780759\tVal-logloss:0.545433\n",
      "[1800]\tTrain-auc:0.849371\tTrain-logloss:0.487982\tVal-auc:0.78104\tVal-logloss:0.544518\n",
      "[1900]\tTrain-auc:0.851418\tTrain-logloss:0.48546\tVal-auc:0.781296\tVal-logloss:0.543727\n",
      "[2000]\tTrain-auc:0.852817\tTrain-logloss:0.483668\tVal-auc:0.781205\tVal-logloss:0.543375\n",
      "[2100]\tTrain-auc:0.854539\tTrain-logloss:0.481746\tVal-auc:0.781234\tVal-logloss:0.542902\n",
      "[2200]\tTrain-auc:0.856126\tTrain-logloss:0.480034\tVal-auc:0.781182\tVal-logloss:0.54252\n",
      "[2300]\tTrain-auc:0.8578\tTrain-logloss:0.478352\tVal-auc:0.781061\tVal-logloss:0.542101\n",
      "[2400]\tTrain-auc:0.859408\tTrain-logloss:0.47667\tVal-auc:0.780939\tVal-logloss:0.54172\n",
      "[2500]\tTrain-auc:0.86111\tTrain-logloss:0.47494\tVal-auc:0.780988\tVal-logloss:0.541282\n",
      "[2600]\tTrain-auc:0.862695\tTrain-logloss:0.473305\tVal-auc:0.781169\tVal-logloss:0.540801\n",
      "[2700]\tTrain-auc:0.864411\tTrain-logloss:0.471539\tVal-auc:0.781289\tVal-logloss:0.540325\n",
      "[2800]\tTrain-auc:0.866076\tTrain-logloss:0.469794\tVal-auc:0.781326\tVal-logloss:0.539831\n",
      "[2900]\tTrain-auc:0.867686\tTrain-logloss:0.468116\tVal-auc:0.781274\tVal-logloss:0.539383\n",
      "[3000]\tTrain-auc:0.869342\tTrain-logloss:0.466402\tVal-auc:0.781301\tVal-logloss:0.53894\n",
      "[3100]\tTrain-auc:0.870869\tTrain-logloss:0.464722\tVal-auc:0.781302\tVal-logloss:0.538495\n",
      "[3200]\tTrain-auc:0.872253\tTrain-logloss:0.463209\tVal-auc:0.781179\tVal-logloss:0.538167\n",
      "[3300]\tTrain-auc:0.873629\tTrain-logloss:0.461665\tVal-auc:0.781067\tVal-logloss:0.537822\n",
      "[3400]\tTrain-auc:0.875113\tTrain-logloss:0.460026\tVal-auc:0.78091\tVal-logloss:0.537439\n",
      "[3500]\tTrain-auc:0.876528\tTrain-logloss:0.458435\tVal-auc:0.780749\tVal-logloss:0.537071\n",
      "[3600]\tTrain-auc:0.8781\tTrain-logloss:0.456733\tVal-auc:0.780678\tVal-logloss:0.536641\n",
      "[3700]\tTrain-auc:0.879812\tTrain-logloss:0.454928\tVal-auc:0.78066\tVal-logloss:0.536213\n",
      "[3800]\tTrain-auc:0.88146\tTrain-logloss:0.453202\tVal-auc:0.780579\tVal-logloss:0.535749\n",
      "[3900]\tTrain-auc:0.883186\tTrain-logloss:0.451403\tVal-auc:0.78064\tVal-logloss:0.535221\n",
      "[4000]\tTrain-auc:0.884839\tTrain-logloss:0.44962\tVal-auc:0.780625\tVal-logloss:0.534725\n",
      "[4100]\tTrain-auc:0.886435\tTrain-logloss:0.447871\tVal-auc:0.780611\tVal-logloss:0.534221\n",
      "[4200]\tTrain-auc:0.887815\tTrain-logloss:0.446282\tVal-auc:0.780635\tVal-logloss:0.533757\n",
      "[4300]\tTrain-auc:0.889094\tTrain-logloss:0.444805\tVal-auc:0.780476\tVal-logloss:0.53343\n",
      "[4400]\tTrain-auc:0.890141\tTrain-logloss:0.443535\tVal-auc:0.780398\tVal-logloss:0.533186\n",
      "[4500]\tTrain-auc:0.891458\tTrain-logloss:0.441949\tVal-auc:0.78028\tVal-logloss:0.532894\n",
      "[4600]\tTrain-auc:0.892808\tTrain-logloss:0.440367\tVal-auc:0.780199\tVal-logloss:0.53251\n",
      "[4700]\tTrain-auc:0.894025\tTrain-logloss:0.438851\tVal-auc:0.780089\tVal-logloss:0.532149\n",
      "[4800]\tTrain-auc:0.89518\tTrain-logloss:0.437389\tVal-auc:0.779994\tVal-logloss:0.531822\n",
      "[4900]\tTrain-auc:0.896269\tTrain-logloss:0.435978\tVal-auc:0.779852\tVal-logloss:0.531553\n",
      "[4999]\tTrain-auc:0.89744\tTrain-logloss:0.4345\tVal-auc:0.779759\tVal-logloss:0.531256\n"
     ]
    }
   ],
   "source": [
    "# Build model\n",
    "d_train = xgb.DMatrix(data=X_train.values, label=y_train.values)\n",
    "d_val = xgb.DMatrix(data=X_val.values, label=y_val.values)\n",
    "d_hold = xgb.DMatrix(data=X_hold.values, label=y_hold.values)\n",
    "\n",
    "sc_weight = train['default_payment_next_month'].value_counts()[0]/train['default_payment_next_month'].value_counts()[1]\n",
    "\n",
    "params = {\n",
    "    'objective': 'binary:logistic',\n",
    "    'eval_metric': ['auc', 'logloss'],\n",
    "    'max_depth': 6,\n",
    "    'learning_rate': 0.002,\n",
    "    'subsample': 1.0,\n",
    "    'colsample_bytree': 1.0,\n",
    "    'scale_pos_weight': sc_weight,\n",
    "    'grow_policy': 'lossguide',\n",
    "    'max_leaves': 31,\n",
    "    'verbosity': 1\n",
    "}\n",
    "\n",
    "clf = xgb.train(\n",
    "    params, d_train,\n",
    "    num_boost_round = 5000,\n",
    "    evals = [(d_train, 'Train'), (d_val, 'Val')],\n",
    "    verbose_eval = 100\n",
    ")"
   ]
  },
  {
   "cell_type": "code",
   "execution_count": 35,
   "metadata": {},
   "outputs": [
    {
     "name": "stdout",
     "output_type": "stream",
     "text": [
      "              precision    recall  f1-score   support\n",
      "\n",
      "           0       0.88      0.80      0.84      2453\n",
      "           1       0.47      0.62      0.53       697\n",
      "\n",
      "    accuracy                           0.76      3150\n",
      "   macro avg       0.67      0.71      0.68      3150\n",
      "weighted avg       0.79      0.76      0.77      3150\n",
      "\n",
      "\n",
      "ROC AUC score: 0.70880\n"
     ]
    }
   ],
   "source": [
    "hold_probs = clf.predict(d_hold)\n",
    "hold_preds = np.array([0 if i < 0.5 else 1 for i in hold_probs])\n",
    "print(classification_report(y_hold, hold_preds))\n",
    "\n",
    "print(\"\\nROC AUC score: {:.5f}\".format(roc_auc_score(y_hold, hold_preds)))"
   ]
  },
  {
   "cell_type": "code",
   "execution_count": 43,
   "metadata": {},
   "outputs": [],
   "source": [
    "# Predict on test data\n",
    "test_ids = test['ID'].values\n",
    "X_test = test.drop(drop_cols, axis=1)\n",
    "d_test = xgb.DMatrix(data=X_test.values)\n",
    "\n",
    "test_probs = clf.predict(d_test)\n",
    "test_preds = np.array([0 if i < 0.55 else 1 for i in test_probs])\n",
    "sub_df = pd.DataFrame(np.vstack((test_ids, test_preds)).T, columns=['ID', 'default_payment_next_month'])\n",
    "sub_df.to_csv('.././submission/sub3_XGB.csv', index=False)"
   ]
  },
  {
   "cell_type": "markdown",
   "metadata": {},
   "source": [
    "# **LightGBM**"
   ]
  },
  {
   "cell_type": "code",
   "execution_count": 18,
   "metadata": {},
   "outputs": [
    {
     "name": "stdout",
     "output_type": "stream",
     "text": [
      "[100]\ttraining's auc: 0.808629\tvalid_1's auc: 0.774178\n",
      "[200]\ttraining's auc: 0.812458\tvalid_1's auc: 0.775081\n",
      "[300]\ttraining's auc: 0.815849\tvalid_1's auc: 0.777056\n",
      "[400]\ttraining's auc: 0.817695\tvalid_1's auc: 0.777316\n",
      "[500]\ttraining's auc: 0.819242\tvalid_1's auc: 0.777329\n",
      "[600]\ttraining's auc: 0.820775\tvalid_1's auc: 0.777313\n",
      "[700]\ttraining's auc: 0.822172\tvalid_1's auc: 0.777101\n",
      "[800]\ttraining's auc: 0.823703\tvalid_1's auc: 0.77695\n",
      "[900]\ttraining's auc: 0.825157\tvalid_1's auc: 0.777079\n",
      "[1000]\ttraining's auc: 0.82715\tvalid_1's auc: 0.777868\n",
      "[1100]\ttraining's auc: 0.828877\tvalid_1's auc: 0.778396\n",
      "[1200]\ttraining's auc: 0.830579\tvalid_1's auc: 0.778723\n",
      "[1300]\ttraining's auc: 0.832283\tvalid_1's auc: 0.779135\n",
      "[1400]\ttraining's auc: 0.833896\tvalid_1's auc: 0.779614\n",
      "[1500]\ttraining's auc: 0.835392\tvalid_1's auc: 0.780169\n",
      "[1600]\ttraining's auc: 0.83696\tvalid_1's auc: 0.780388\n",
      "[1700]\ttraining's auc: 0.838428\tvalid_1's auc: 0.780561\n",
      "[1800]\ttraining's auc: 0.839822\tvalid_1's auc: 0.78058\n",
      "[1900]\ttraining's auc: 0.84117\tvalid_1's auc: 0.78064\n",
      "[2000]\ttraining's auc: 0.842554\tvalid_1's auc: 0.780575\n"
     ]
    }
   ],
   "source": [
    "# Build model\n",
    "d_train = lgb.Dataset(data=X_train, label=y_train)\n",
    "d_val = lgb.Dataset(data=X_val, label=y_val)\n",
    "d_hold = lgb.Dataset(data=X_hold, label=y_hold)\n",
    "\n",
    "sc_weight = train['default_payment_next_month'].value_counts()[0]/train['default_payment_next_month'].value_counts()[1]\n",
    "\n",
    "params = {\n",
    "    'objective': 'binary',\n",
    "    'metric': 'auc',\n",
    "    'max_depth': 11,\n",
    "    'learning_rate': 0.001,\n",
    "    'bagging_fraction': 1.0,\n",
    "    'feature_fraction': 0.9,\n",
    "    'scale_pos_weight': 3.0,\n",
    "    'max_leaves': 31,\n",
    "    'verbosity': 1\n",
    "}\n",
    "\n",
    "clf = lgb.train(\n",
    "    params, d_train,\n",
    "    num_boost_round = 2000,\n",
    "    valid_sets = [d_train, d_val],\n",
    "    verbose_eval = 100\n",
    ")"
   ]
  },
  {
   "cell_type": "code",
   "execution_count": 19,
   "metadata": {},
   "outputs": [
    {
     "name": "stdout",
     "output_type": "stream",
     "text": [
      "              precision    recall  f1-score   support\n",
      "\n",
      "           0       0.87      0.86      0.87      2453\n",
      "           1       0.53      0.56      0.55       697\n",
      "\n",
      "    accuracy                           0.79      3150\n",
      "   macro avg       0.70      0.71      0.71      3150\n",
      "weighted avg       0.80      0.79      0.80      3150\n",
      "\n",
      "\n",
      "ROC AUC score: 0.71078\n"
     ]
    }
   ],
   "source": [
    "hold_probs = clf.predict(X_hold)\n",
    "hold_preds = np.array([0 if i < 0.5 else 1 for i in hold_probs])\n",
    "print(classification_report(y_hold, hold_preds))\n",
    "\n",
    "print(\"\\nROC AUC score: {:.5f}\".format(roc_auc_score(y_hold, hold_preds)))"
   ]
  },
  {
   "cell_type": "code",
   "execution_count": 20,
   "metadata": {},
   "outputs": [],
   "source": [
    "# Predict on test data\n",
    "test_ids = test['ID'].values\n",
    "X_test = test.drop(drop_cols, axis=1)\n",
    "\n",
    "test_probs = clf.predict(X_test)\n",
    "test_preds = np.array([0 if i < 0.55 else 1 for i in test_probs])\n",
    "sub_df = pd.DataFrame(np.vstack((test_ids, test_preds)).T, columns=['ID', 'default_payment_next_month'])\n",
    "sub_df.to_csv('.././submission/sub10_LGB.csv', index=False)"
   ]
  },
  {
   "cell_type": "markdown",
   "metadata": {},
   "source": [
    "# **CatBoost**"
   ]
  },
  {
   "cell_type": "code",
   "execution_count": 31,
   "metadata": {},
   "outputs": [
    {
     "name": "stdout",
     "output_type": "stream",
     "text": [
      "0:\ttest: 0.7519059\ttest1: 0.7425772\tbest: 0.7425772 (0)\ttotal: 85.2ms\tremaining: 7m 6s\n",
      "500:\ttest: 0.7812326\ttest1: 0.7706545\tbest: 0.7706545 (500)\ttotal: 23.5s\tremaining: 3m 31s\n",
      "1000:\ttest: 0.7843602\ttest1: 0.7727189\tbest: 0.7727189 (1000)\ttotal: 49.7s\tremaining: 3m 18s\n",
      "1500:\ttest: 0.7877433\ttest1: 0.7754121\tbest: 0.7754151 (1499)\ttotal: 1m 16s\tremaining: 2m 57s\n",
      "2000:\ttest: 0.7911382\ttest1: 0.7776686\tbest: 0.7776780 (1998)\ttotal: 1m 41s\tremaining: 2m 32s\n",
      "2500:\ttest: 0.7939135\ttest1: 0.7790896\tbest: 0.7790919 (2499)\ttotal: 2m 7s\tremaining: 2m 7s\n",
      "3000:\ttest: 0.7963897\ttest1: 0.7803489\tbest: 0.7803489 (2999)\ttotal: 2m 33s\tremaining: 1m 42s\n",
      "3500:\ttest: 0.7984848\ttest1: 0.7811774\tbest: 0.7811792 (3499)\ttotal: 2m 59s\tremaining: 1m 16s\n",
      "4000:\ttest: 0.8004481\ttest1: 0.7816973\tbest: 0.7816997 (3999)\ttotal: 3m 25s\tremaining: 51.2s\n",
      "4500:\ttest: 0.8021096\ttest1: 0.7821587\tbest: 0.7821587 (4499)\ttotal: 3m 50s\tremaining: 25.5s\n",
      "4999:\ttest: 0.8036403\ttest1: 0.7825258\tbest: 0.7825299 (4989)\ttotal: 4m 15s\tremaining: 0us\n",
      "\n",
      "bestTest = 0.7825298715\n",
      "bestIteration = 4989\n",
      "\n",
      "Shrink model to first 4990 iterations.\n"
     ]
    },
    {
     "data": {
      "text/plain": [
       "<catboost.core.CatBoostClassifier at 0x7f68ef0b5828>"
      ]
     },
     "execution_count": 31,
     "metadata": {},
     "output_type": "execute_result"
    }
   ],
   "source": [
    "# Build model\n",
    "sc_weight = train['default_payment_next_month'].value_counts()[0]/train['default_payment_next_month'].value_counts()[1]\n",
    "\n",
    "clf = CatBoostClassifier(\n",
    "    loss_function='Logloss',\n",
    "    eval_metric='AUC',\n",
    "    iterations=5000,\n",
    "    learning_rate=0.001,\n",
    "    depth=6,\n",
    "    scale_pos_weight=sc_weight,\n",
    "    max_leaves=31\n",
    ")\n",
    "\n",
    "clf.fit(X_train, y_train, eval_set=[(X_train, y_train), (X_val, y_val)], verbose_eval=500)"
   ]
  },
  {
   "cell_type": "code",
   "execution_count": 32,
   "metadata": {},
   "outputs": [
    {
     "name": "stdout",
     "output_type": "stream",
     "text": [
      "              precision    recall  f1-score   support\n",
      "\n",
      "           0       0.89      0.79      0.83      2453\n",
      "           1       0.46      0.64      0.54       697\n",
      "\n",
      "    accuracy                           0.75      3150\n",
      "   macro avg       0.67      0.71      0.69      3150\n",
      "weighted avg       0.79      0.75      0.77      3150\n",
      "\n",
      "\n",
      "ROC AUC score: 0.71477\n"
     ]
    }
   ],
   "source": [
    "hold_probs = clf.predict(X_hold)\n",
    "hold_preds = np.array([0 if i < 0.5 else 1 for i in hold_probs])\n",
    "print(classification_report(y_hold, hold_preds))\n",
    "\n",
    "print(\"\\nROC AUC score: {:.5f}\".format(roc_auc_score(y_hold, hold_preds)))"
   ]
  },
  {
   "cell_type": "code",
   "execution_count": 33,
   "metadata": {},
   "outputs": [],
   "source": [
    "# Predict on test data\n",
    "test_ids = test['ID'].values\n",
    "X_test = test.drop(drop_cols, axis=1)\n",
    "\n",
    "test_probs = clf.predict(X_test)\n",
    "test_preds = np.array([0 if i < 0.55 else 1 for i in test_probs])\n",
    "sub_df = pd.DataFrame(np.vstack((test_ids, test_preds)).T, columns=['ID', 'default_payment_next_month'])\n",
    "sub_df.to_csv('.././submission/sub12_CAT.csv', index=False)"
   ]
  }
 ],
 "metadata": {
  "kernelspec": {
   "display_name": "Python 3",
   "language": "python",
   "name": "python3"
  },
  "language_info": {
   "codemirror_mode": {
    "name": "ipython",
    "version": 3
   },
   "file_extension": ".py",
   "mimetype": "text/x-python",
   "name": "python",
   "nbconvert_exporter": "python",
   "pygments_lexer": "ipython3",
   "version": "3.6.9"
  }
 },
 "nbformat": 4,
 "nbformat_minor": 4
}
